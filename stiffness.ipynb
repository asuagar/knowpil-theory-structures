{
 "cells": [
  {
   "cell_type": "markdown",
   "metadata": {},
   "source": [
    "Except as otherwise noted, the content of this page is licensed under the [Creative Commons Attribution 4.0 License](https://creativecommons.org/licenses/by/4.0/) (CC BY 4.0 Andrés Suárez), and code samples are licensed under the [MIT License](https://opensource.org/licenses/MIT) (Copyright 2020 Andrés Suárez). "
   ]
  },
  {
   "cell_type": "code",
   "execution_count": 1,
   "metadata": {},
   "outputs": [],
   "source": [
    "import numpy as np"
   ]
  },
  {
   "cell_type": "code",
   "execution_count": 2,
   "metadata": {},
   "outputs": [],
   "source": [
    "def truss_element(E, A, ends):\n",
    "    \"\"\"\" Generates the stiffness matrix of a bar\n",
    "    \n",
    "    Args:\n",
    "        E (float): bar Young module [N/mm^2]\n",
    "        A (float): bar transversal section [mm^2]\n",
    "        ends (matrix): coordinates of the ends of the bar\n",
    "        \n",
    "    Returns:\n",
    "        k (matrix): bar stiffness matrix [N/mm]\n",
    "        \n",
    "    \"\"\"\n",
    "    x1, y1 = ends[0,0], ends[0,1]\n",
    "    x2, y2 = ends[1,0], ends[1,1]\n",
    "    dx = x2-x1\n",
    "    dy = y2-y1\n",
    "    \n",
    "    L = np.sqrt(dx**2 + dy**2)\n",
    "    ls = dx/L\n",
    "    ms = dy/L\n",
    "    \n",
    "    k = (E*A/L)*np.matrix([\n",
    "        [ls**2, ls*ms, -ls**2, -ls*ms],\n",
    "        [ls*ms, ms**2, -ls*ms, -ms**2],\n",
    "        [-ls**2, -ls*ms, ls**2, ls*ms],\n",
    "        [-ls*ms, -ms**2, ls*ms, ms**2]])\n",
    "    \n",
    "    return k"
   ]
  },
  {
   "cell_type": "code",
   "execution_count": 3,
   "metadata": {},
   "outputs": [],
   "source": [
    "def global_stiffness_matrix(Ee, Ae, coord, nd, lm):\n",
    "    \"\"\"\" Generates the global stiffness matrix of the structure\n",
    "    \n",
    "    Args:\n",
    "        Ee (array): bars Young modulus [N/mm^2]\n",
    "        Ae (array): bars cross sections [mm^2]\n",
    "        coord (matrix): coordinates of the bars ends [mm]\n",
    "        nd (int): degrees of freedom\n",
    "        lm (array): nodal axis\n",
    "        \n",
    "    Returns:\n",
    "        kg (matrix): global stiffness matrix [N/mm]\n",
    "        \n",
    "    \"\"\"\n",
    "    K = np.zeros((nd,nd))\n",
    "    for i in range(ne):\n",
    "        ke = truss_element(Ee[i], Ae[i], coord[np.ravel(en[i,:]),:])\n",
    "        ix = np.ravel(lm[i,:])\n",
    "        K[np.ix_(ix,ix)] = K[np.ix_(ix,ix)] + ke\n",
    "    return K"
   ]
  },
  {
   "cell_type": "code",
   "execution_count": 4,
   "metadata": {},
   "outputs": [],
   "source": [
    "def nodal_displacement(K, F, B, R):\n",
    "    \"\"\"\" Estimates the nodal displacements\n",
    "    \n",
    "    Args:\n",
    "        K (matrix): global stiffness matrix [N/mm^2]\n",
    "        F (array): nodal loads [N]\n",
    "        B (array): nodal axis with restrictions\n",
    "        R (array): fixed displacements of the restricted nodal axis [mm]\n",
    "        \n",
    "    Returns:\n",
    "        d (array): nodal displacements [mm]\n",
    "        \n",
    "    \"\"\"\n",
    "    dof = len(F)\n",
    "    d = np.zeros([dof,1])\n",
    "    free = np.setxor1d(np.arange(dof), B)\n",
    "    Kf = K[np.ix_(free, free)]\n",
    "    Rf = F[free] - np.dot(K[np.ix_(free,B.ravel())], R)\n",
    "    sol = np.dot(np.linalg.inv(Kf), Rf)\n",
    "    d[B.T] = R\n",
    "    d[free] = sol\n",
    "    return d"
   ]
  },
  {
   "cell_type": "code",
   "execution_count": 5,
   "metadata": {},
   "outputs": [],
   "source": [
    "# geometry\n",
    "ne = 3                     # number of elements\n",
    "nn = 3                     # number of nodes\n",
    "nd = 6                     # number of degrees of freedom\n",
    "coord = 1000*np.matrix('0 0; 4 0; 0 3')        # nodal coordinates\n",
    "en = np.matrix('0 1; 1 2; 0 2')                # bar connectivity\n",
    "lm = np.matrix('[0 1 2 3; 2 3 4 5; 0 1 4 5]')  # nodal axis\n",
    "\n",
    "# materials and sections\n",
    "E1 = 70e3                     # N/mm^2\n",
    "E2 = 210e3                    # N/mm^2\n",
    "A1 = 3e3                      # mm^2\n",
    "A2 = 2e3                      # mm^2\n",
    "Ee = np.array([E1, E2, E1])   # size = number of bars\n",
    "Ae = np.array([A1, A2, A1])   # size = number of bars\n",
    "\n",
    "# loads\n",
    "P = 150000;                    # N\n",
    "alpha = 30*np.pi/180           # radians\n",
    "F = np.zeros([nd, 1])\n",
    "F[2] = -P*np.sin(alpha) \n",
    "F[3] = -P*np.cos(alpha)\n",
    "\n",
    "# restrictions\n",
    "B = np.array([[0, 1, 4]]).T    # Nodal axis...\n",
    "R = np.array([[0, 0, 0]]).T    # ...with restrictions"
   ]
  },
  {
   "cell_type": "code",
   "execution_count": 6,
   "metadata": {},
   "outputs": [
    {
     "data": {
      "text/plain": [
       "array([[  0.        ,   0.        ],\n",
       "       [ -4.72771582, -12.45515075],\n",
       "       [  0.        ,  -1.85576872]])"
      ]
     },
     "execution_count": 6,
     "metadata": {},
     "output_type": "execute_result"
    }
   ],
   "source": [
    "# nodal displacement\n",
    "K = global_stiffness_matrix(Ee, Ae, coord, nd, lm)\n",
    "d = nodal_displacement(K, F, B, R)\n",
    "d.reshape(-1,2)"
   ]
  }
 ],
 "metadata": {
  "kernelspec": {
   "display_name": "Python 3",
   "language": "python",
   "name": "python3"
  },
  "language_info": {
   "codemirror_mode": {
    "name": "ipython",
    "version": 3
   },
   "file_extension": ".py",
   "mimetype": "text/x-python",
   "name": "python",
   "nbconvert_exporter": "python",
   "pygments_lexer": "ipython3",
   "version": "3.7.7"
  }
 },
 "nbformat": 4,
 "nbformat_minor": 4
}
