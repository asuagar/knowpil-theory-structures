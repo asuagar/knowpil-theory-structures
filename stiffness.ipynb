{
 "cells": [
  {
   "cell_type": "markdown",
   "metadata": {},
   "source": [
    "Except as otherwise noted, the content of this page is licensed under the [Creative Commons Attribution 4.0 License](https://creativecommons.org/licenses/by/4.0/) (CC BY 4.0 Andrés Suárez), and code samples are licensed under the [MIT License](https://opensource.org/licenses/MIT) (Copyright 2020 Andrés Suárez). "
   ]
  },
  {
   "cell_type": "code",
   "execution_count": 1,
   "metadata": {},
   "outputs": [],
   "source": [
    "import numpy as np"
   ]
  },
  {
   "cell_type": "code",
   "execution_count": 2,
   "metadata": {},
   "outputs": [],
   "source": [
    "def truss_element(E, A, ends):\n",
    "    \"\"\"\" Generates the stiffness matrix of a bar\n",
    "    \n",
    "    Args:\n",
    "        E (float): bar Young module [N/mm^2]\n",
    "        A (float): bar transversal section [mm^2]\n",
    "        ends (matrix): coordinates of the ends of the bar\n",
    "        \n",
    "    Returns:\n",
    "        k (matrix): bar stiffness matrix [N/mm]\n",
    "        \n",
    "    \"\"\"\n",
    "    x1, y1 = ends[0,0], ends[0,1]\n",
    "    x2, y2 = ends[1,0], ends[1,1]\n",
    "    dx = x2-x1\n",
    "    dy = y2-y1\n",
    "    \n",
    "    L = np.sqrt(dx**2 + dy**2)\n",
    "    c = dx/L\n",
    "    s = dy/L\n",
    "    \n",
    "    k = (E*A/L)*np.matrix([\n",
    "        [c**2,   c*s,  -c**2, -c*s],\n",
    "        [c*s,    s**2, -c*s,  -s**2],\n",
    "        [-c**2, -c*s,   c**2,  c*s],\n",
    "        [-c*s,  -s**2,  c*s,   s**2]])\n",
    "    \n",
    "    return k"
   ]
  },
  {
   "cell_type": "code",
   "execution_count": 3,
   "metadata": {},
   "outputs": [],
   "source": [
    "def global_stiffness_matrix(Es, As, coord, dof, barc, nax):\n",
    "    \"\"\"\" Generates the global stiffness matrix of the structure\n",
    "    \n",
    "    Args:\n",
    "        Es (array): bars Young modulus [N/mm^2]\n",
    "        As (array): bars cross sections [mm^2]\n",
    "        coord (matrix): coordinates of the bars ends [mm]\n",
    "        dof (int): degrees of freedom\n",
    "        cbar (array): bar connectivity\n",
    "        nax (array): nodal axis\n",
    "        \n",
    "    Returns:\n",
    "        K (matrix): global stiffness matrix [N/mm]\n",
    "        \n",
    "    \"\"\"\n",
    "    K = np.zeros((dof,dof))\n",
    "    for i in range(ne):\n",
    "        k_local = truss_element(Es[i], As[i], coord[np.ravel(barc[i,:]),:])\n",
    "        ix = np.ravel(nax[i,:])\n",
    "        K[np.ix_(ix,ix)] = K[np.ix_(ix,ix)] + k_local\n",
    "    return K"
   ]
  },
  {
   "cell_type": "code",
   "execution_count": 4,
   "metadata": {},
   "outputs": [],
   "source": [
    "def nodal_displacement(K, F, B, R):\n",
    "    \"\"\"\" Estimates the nodal displacements\n",
    "    \n",
    "    Args:\n",
    "        K (matrix): global stiffness matrix [N/mm^2]\n",
    "        F (array): nodal loads [N]\n",
    "        B (array): nodal axis with restrictions\n",
    "        R (array): fixed displacements of the restricted nodal axis [mm]\n",
    "        \n",
    "    Returns:\n",
    "        d (array): nodal displacements [mm]\n",
    "        \n",
    "    \"\"\"\n",
    "    dof = len(F)\n",
    "    d = np.zeros([dof,1])\n",
    "    free = np.setxor1d(np.arange(dof), B)\n",
    "    Kf = K[np.ix_(free, free)]\n",
    "    Rf = F[free] - np.dot(K[np.ix_(free,B.ravel())], R)\n",
    "    sol = np.dot(np.linalg.inv(Kf), Rf)\n",
    "    d[B.T] = R\n",
    "    d[free] = sol\n",
    "    return d"
   ]
  },
  {
   "cell_type": "markdown",
   "metadata": {},
   "source": [
    "![](./fig/structure1.png)"
   ]
  },
  {
   "cell_type": "code",
   "execution_count": 5,
   "metadata": {},
   "outputs": [],
   "source": [
    "# geometry\n",
    "ne = 3                        # number of elements\n",
    "nn = 3                        # number of nodes\n",
    "dof = 2*nn                    # number of degrees of freedom\n",
    "coord = 1000*np.matrix('0 0; 4 0; 0 3')      # nodal coordinates\n",
    "barc = np.matrix('0 1; 1 2; 0 2')            # bar connectivity\n",
    "nax = np.matrix('0 1 2 3; 2 3 4 5; 0 1 4 5') # nodal axis\n",
    "\n",
    "# materials and sections\n",
    "E1 = 70e3                     # N/mm^2\n",
    "E2 = 210e3                    # N/mm^2\n",
    "A1 = 3e3                      # mm^2\n",
    "A2 = 2e3                      # mm^2\n",
    "Es = np.array([E1, E2, E1])   # size = number of bars\n",
    "As = np.array([A1, A2, A1])   # size = number of bars\n",
    "\n",
    "# loads\n",
    "F = np.zeros([dof, 1])        # array of forces\n",
    "P = 150000;                   # N\n",
    "alpha = 60*np.pi/180          # horizontal angle in radians\n",
    "F[2] = -P*np.sin(alpha)       # horizontal proyection of P in x2\n",
    "F[3] = -P*np.cos(alpha)       # vertical proyection of P in y2\n",
    "\n",
    "# restrictions\n",
    "B = np.array([[0, 1, 4]]).T    # Nodal axis...\n",
    "R = np.array([[0, 0, 0]]).T    # ...with no-movement restriction"
   ]
  },
  {
   "cell_type": "code",
   "execution_count": 6,
   "metadata": {},
   "outputs": [
    {
     "name": "stdout",
     "output_type": "stream",
     "text": [
      "[[ 52500.      0. -52500.      0.      0.      0.]\n",
      " [     0.  70000.      0.      0.      0. -70000.]\n",
      " [-52500.      0. 106260. -40320. -53760.  40320.]\n",
      " [     0.      0. -40320.  30240.  40320. -30240.]\n",
      " [     0.      0. -53760.  40320.  53760. -40320.]\n",
      " [     0. -70000.  40320. -30240. -40320. 100240.]]\n"
     ]
    }
   ],
   "source": [
    "# global stiffness matrix\n",
    "K = global_stiffness_matrix(Es, As, coord, dof, barc, nax)\n",
    "print(K)"
   ]
  },
  {
   "cell_type": "code",
   "execution_count": 7,
   "metadata": {},
   "outputs": [
    {
     "name": "stdout",
     "output_type": "stream",
     "text": [
      "[[ 0.          0.        ]\n",
      " [-4.3791202  -9.39041424]\n",
      " [ 0.         -1.07142857]]\n"
     ]
    }
   ],
   "source": [
    "d = nodal_displacement(K, F, B, R)\n",
    "print(d.reshape(-1,2))"
   ]
  },
  {
   "cell_type": "markdown",
   "metadata": {},
   "source": [
    "![](./fig/structure2.png)"
   ]
  },
  {
   "cell_type": "code",
   "execution_count": 8,
   "metadata": {},
   "outputs": [],
   "source": [
    "# geometry\n",
    "ne = 7\n",
    "nn = 5\n",
    "dof = 2*nn\n",
    "coord = 1000*np.matrix('0 0; 3 0; 6 0; 0 3; 3 3')\n",
    "barc = np.matrix('0 1; 1 2; 0 3; \\\n",
    "                1 3; 1 4; 2 4; \\\n",
    "                3 4')\n",
    "nax = np.matrix('0 1 2 3; 2 3 4 5; 0 1 6 7; \\\n",
    "                 2 3 6 7; 2 3 8 9; 4 5 8 9; \\\n",
    "                 6 7 8 9')\n",
    "\n",
    "# materials and sections\n",
    "E = 1540                      # N/mm^2\n",
    "A = 190                       # mm^2\n",
    "Es = E*np.ones(ne)            # size = number of bars\n",
    "As = A*np.ones(ne)            # size = number of bars\n",
    "\n",
    "# loads\n",
    "F = np.zeros([dof, 1])        # array of forces\n",
    "P = 100;                      # N\n",
    "F[5] = -P                     # horizontal proyection of P in y2\n",
    "\n",
    "# restrictions\n",
    "B = np.array([[0, 6, 7]]).T    # Nodal axis...\n",
    "R = np.array([[0, 0, 0]]).T    # ...with no-movement restriction"
   ]
  },
  {
   "cell_type": "code",
   "execution_count": 9,
   "metadata": {},
   "outputs": [
    {
     "name": "stdout",
     "output_type": "stream",
     "text": [
      "[[ 97.5   0.  -97.5   0.    0.    0.    0.    0.    0.    0. ]\n",
      " [  0.   97.5   0.    0.    0.    0.    0.  -97.5   0.    0. ]\n",
      " [-97.5   0.  229.5 -34.5 -97.5   0.  -34.5  34.5   0.    0. ]\n",
      " [  0.    0.  -34.5 132.    0.    0.   34.5 -34.5   0.  -97.5]\n",
      " [  0.    0.  -97.5   0.  132.  -34.5   0.    0.  -34.5  34.5]\n",
      " [  0.    0.    0.    0.  -34.5  34.5   0.    0.   34.5 -34.5]\n",
      " [  0.    0.  -34.5  34.5   0.    0.  132.  -34.5 -97.5   0. ]\n",
      " [  0.  -97.5  34.5 -34.5   0.    0.  -34.5 132.    0.    0. ]\n",
      " [  0.    0.    0.    0.  -34.5  34.5 -97.5   0.  132.  -34.5]\n",
      " [  0.    0.    0.  -97.5  34.5 -34.5   0.    0.  -34.5 132. ]]\n"
     ]
    }
   ],
   "source": [
    "# global stiffness matrix\n",
    "K = global_stiffness_matrix(Es, As, coord, dof, barc, nax)\n",
    "print(K.round(1))"
   ]
  },
  {
   "cell_type": "code",
   "execution_count": 10,
   "metadata": {},
   "outputs": [
    {
     "name": "stdout",
     "output_type": "stream",
     "text": [
      "[[  0.     0.  ]\n",
      " [ -2.05  -4.95]\n",
      " [ -3.08 -12.98]\n",
      " [  0.     0.  ]\n",
      " [  1.03  -5.98]]\n"
     ]
    }
   ],
   "source": [
    "# noda displacement\n",
    "d = nodal_displacement(K, F, B, R)\n",
    "print(d.round(2).reshape(-1,2))"
   ]
  }
 ],
 "metadata": {
  "kernelspec": {
   "display_name": "Python 3",
   "language": "python",
   "name": "python3"
  },
  "language_info": {
   "codemirror_mode": {
    "name": "ipython",
    "version": 3
   },
   "file_extension": ".py",
   "mimetype": "text/x-python",
   "name": "python",
   "nbconvert_exporter": "python",
   "pygments_lexer": "ipython3",
   "version": "3.7.7"
  }
 },
 "nbformat": 4,
 "nbformat_minor": 4
}
